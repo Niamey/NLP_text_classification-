{
  "nbformat": 4,
  "nbformat_minor": 0,
  "metadata": {
    "colab": {
      "provenance": []
    },
    "kernelspec": {
      "name": "python3",
      "display_name": "Python 3"
    },
    "language_info": {
      "name": "python"
    }
  },
  "cells": [
    {
      "cell_type": "code",
      "source": [
        "import pandas as pd\n",
        "import nltk\n",
        "from nltk.corpus import stopwords\n",
        "from nltk.tokenize import word_tokenize\n",
        "from sklearn.feature_extraction.text import TfidfVectorizer\n",
        "from sklearn.linear_model import LogisticRegression\n",
        "from sklearn.metrics import classification_report\n",
        "import xgboost as xgb\n",
        "import joblib\n",
        "from sklearn.model_selection import train_test_split\n",
        "\n",
        "nltk.download('punkt')\n",
        "nltk.download('stopwords')\n",
        "\n",
        "data = {\n",
        "    'text': [\n",
        "        \"This product is simply awful. It stopped working after a week.\",\n",
        "        \"Excellent quality for a reasonable price. I am very satisfied with the purchase.\",\n",
        "        \"Terrible customer service. They never respond to emails.\",\n",
        "        \"The delivery was fast and the product exceeded my expectations.\"\n",
        "    ],\n",
        "    'label': [1, 0, 1, 0]\n",
        "}\n",
        "\n",
        "df = pd.DataFrame(data)\n",
        "\n",
        "stop_words = set(stopwords.words('english'))\n",
        "\n",
        "def preprocess_text(text):\n",
        "    tokens = word_tokenize(text.lower())\n",
        "    filtered_tokens = [word for word in tokens if word.isalpha() and word not in stop_words]\n",
        "    return ' '.join(filtered_tokens)\n",
        "\n",
        "df['processed_text'] = df['text'].apply(preprocess_text)\n",
        "\n",
        "vectorizer = TfidfVectorizer(max_features=1000)\n",
        "X_tfidf = vectorizer.fit_transform(df['processed_text'])\n",
        "y = df['label']\n",
        "\n",
        "from collections import Counter\n",
        "print(\"Original class distribution:\", Counter(y))\n",
        "\n",
        "df.loc[df['label'] == 1, 'label'] = 0\n",
        "\n",
        "print(\"Merged class distribution:\", Counter(y))\n",
        "\n",
        "X_train, X_test, y_train, y_test = train_test_split(X_tfidf, y, test_size=0.2, random_state=42, stratify=y)\n",
        "\n",
        "while len(set(y_train)) < 2:\n",
        "    X_train, X_test, y_train, y_test = train_test_split(X_tfidf, y, test_size=0.2, random_state=42, stratify=y)\n",
        "\n",
        "model_lr = LogisticRegression()\n",
        "model_lr.fit(X_train, y_train)\n",
        "\n",
        "y_pred_lr = model_lr.predict(X_test)\n",
        "print(\"Classification Report (Logistic Regression with TF-IDF):\\n\", classification_report(y_test, y_pred_lr))\n",
        "\n",
        "joblib.dump(model_lr, 'sentiment_analysis_model_lr.pkl')\n",
        "\n",
        "dtrain = xgb.DMatrix(X_train, label=y_train)\n",
        "dtest = xgb.DMatrix(X_test, label=y_test)\n",
        "\n",
        "params = {\n",
        "    'objective': 'binary:logistic',\n",
        "    'eval_metric': 'logloss'\n",
        "}\n",
        "\n",
        "model_xgb = xgb.train(params, dtrain)\n",
        "y_pred_xgb = model_xgb.predict(dtest)\n",
        "y_pred_xgb = [1 if pred > 0.5 else 0 for pred in y_pred_xgb]\n",
        "\n",
        "print(\"\\nClassification Report (XGBoost with TF-IDF):\\n\", classification_report(y_test, y_pred_xgb))\n",
        "\n",
        "model_xgb.save_model('sentiment_analysis_model_xgb.model')"
      ],
      "metadata": {
        "colab": {
          "base_uri": "https://localhost:8080/"
        },
        "id": "wEQtPrid9GIg",
        "outputId": "a004fcdf-cb04-42d7-9cdb-66c25ff2f750"
      },
      "execution_count": null,
      "outputs": [
        {
          "output_type": "stream",
          "name": "stderr",
          "text": [
            "[nltk_data] Downloading package punkt to /root/nltk_data...\n",
            "[nltk_data]   Package punkt is already up-to-date!\n",
            "[nltk_data] Downloading package stopwords to /root/nltk_data...\n",
            "[nltk_data]   Package stopwords is already up-to-date!\n"
          ]
        },
        {
          "output_type": "stream",
          "name": "stdout",
          "text": [
            "Original class distribution: Counter({1: 2, 0: 2})\n",
            "Merged class distribution: Counter({0: 4})\n"
          ]
        }
      ]
    }
  ]
}